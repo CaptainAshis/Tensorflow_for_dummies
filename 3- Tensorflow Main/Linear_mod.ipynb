{
  "nbformat": 4,
  "nbformat_minor": 0,
  "metadata": {
    "colab": {
      "name": "Linear_mod.ipynb",
      "version": "0.3.2",
      "views": {},
      "default_view": {},
      "provenance": [],
      "collapsed_sections": []
    },
    "kernelspec": {
      "name": "python3",
      "display_name": "Python 3"
    },
    "accelerator": "GPU"
  },
  "cells": [
    {
      "metadata": {
        "id": "8Jm_cgkpYTBN",
        "colab_type": "code",
        "colab": {
          "autoexec": {
            "startup": false,
            "wait_interval": 0
          }
        }
      },
      "cell_type": "code",
      "source": [
        "!pip install -q keras"
      ],
      "execution_count": 0,
      "outputs": []
    },
    {
      "metadata": {
        "id": "_SZZZ1hAYjl2",
        "colab_type": "code",
        "colab": {
          "autoexec": {
            "startup": false,
            "wait_interval": 0
          },
          "base_uri": "https://localhost:8080/",
          "height": 34
        },
        "outputId": "2fae9223-81a6-4132-991c-539ebdc64a65",
        "executionInfo": {
          "status": "ok",
          "timestamp": 1523411287574,
          "user_tz": -330,
          "elapsed": 1871,
          "user": {
            "displayName": "ashis kumar",
            "photoUrl": "//lh4.googleusercontent.com/-fAW8BbSQZCA/AAAAAAAAAAI/AAAAAAAABEI/EOTcAAbxBFw/s50-c-k-no/photo.jpg",
            "userId": "112959655216491997395"
          }
        }
      },
      "cell_type": "code",
      "source": [
        "!python3 drive/AI/mnist_cnn.py"
      ],
      "execution_count": 2,
      "outputs": [
        {
          "output_type": "stream",
          "text": [
            "python3: can't open file 'drive/AI/mnist_cnn.py': [Errno 2] No such file or directory\r\n"
          ],
          "name": "stdout"
        }
      ]
    },
    {
      "metadata": {
        "id": "CzFeZlrcY3Yl",
        "colab_type": "code",
        "colab": {
          "autoexec": {
            "startup": false,
            "wait_interval": 0
          },
          "base_uri": "https://localhost:8080/",
          "height": 105
        },
        "outputId": "cbf3e566-3491-4115-aaa6-38ef0b4792b9",
        "executionInfo": {
          "status": "ok",
          "timestamp": 1523411411411,
          "user_tz": -330,
          "elapsed": 21014,
          "user": {
            "displayName": "ashis kumar",
            "photoUrl": "//lh4.googleusercontent.com/-fAW8BbSQZCA/AAAAAAAAAAI/AAAAAAAABEI/EOTcAAbxBFw/s50-c-k-no/photo.jpg",
            "userId": "112959655216491997395"
          }
        }
      },
      "cell_type": "code",
      "source": [
        "!apt-get install -y -qq software-properties-common python-software-properties module-init-tools\n",
        "!add-apt-repository -y ppa:alessandro-strada/ppa 2>&1 > /dev/null\n",
        "!apt-get update -qq 2>&1 > /dev/null\n",
        "!apt-get -y install -qq google-drive-ocamlfuse fuse\n",
        "from google.colab import auth\n",
        "auth.authenticate_user()\n",
        "from oauth2client.client import GoogleCredentials\n",
        "creds = GoogleCredentials.get_application_default()\n",
        "import getpass\n",
        "!google-drive-ocamlfuse -headless -id={creds.client_id} -secret={creds.client_secret} < /dev/null 2>&1 | grep URL\n",
        "vcode = getpass.getpass()\n",
        "!echo {vcode} | google-drive-ocamlfuse -headless -id={creds.client_id} -secret={creds.client_secret}"
      ],
      "execution_count": 3,
      "outputs": [
        {
          "output_type": "stream",
          "text": [
            "Please, open the following URL in a web browser: https://accounts.google.com/o/oauth2/auth?client_id=32555940559.apps.googleusercontent.com&redirect_uri=urn%3Aietf%3Awg%3Aoauth%3A2.0%3Aoob&scope=https%3A%2F%2Fwww.googleapis.com%2Fauth%2Fdrive&response_type=code&access_type=offline&approval_prompt=force\r\n",
            "··········\n",
            "Please, open the following URL in a web browser: https://accounts.google.com/o/oauth2/auth?client_id=32555940559.apps.googleusercontent.com&redirect_uri=urn%3Aietf%3Awg%3Aoauth%3A2.0%3Aoob&scope=https%3A%2F%2Fwww.googleapis.com%2Fauth%2Fdrive&response_type=code&access_type=offline&approval_prompt=force\n",
            "Please enter the verification code: Access token retrieved correctly.\n"
          ],
          "name": "stdout"
        }
      ]
    },
    {
      "metadata": {
        "id": "NdQVxLUOZBxL",
        "colab_type": "code",
        "colab": {
          "autoexec": {
            "startup": false,
            "wait_interval": 0
          }
        }
      },
      "cell_type": "code",
      "source": [
        "!pip install -q keras"
      ],
      "execution_count": 0,
      "outputs": []
    },
    {
      "metadata": {
        "id": "9SGoCG7bZaPC",
        "colab_type": "code",
        "colab": {
          "autoexec": {
            "startup": false,
            "wait_interval": 0
          }
        }
      },
      "cell_type": "code",
      "source": [
        "import keras"
      ],
      "execution_count": 0,
      "outputs": []
    },
    {
      "metadata": {
        "id": "VZWJYiR6ZnS5",
        "colab_type": "code",
        "colab": {
          "autoexec": {
            "startup": false,
            "wait_interval": 0
          },
          "base_uri": "https://localhost:8080/",
          "height": 34
        },
        "outputId": "d9c95e22-7500-4237-c1ac-5db72251240d",
        "executionInfo": {
          "status": "ok",
          "timestamp": 1523426010868,
          "user_tz": -330,
          "elapsed": 1330,
          "user": {
            "displayName": "ashis kumar",
            "photoUrl": "//lh4.googleusercontent.com/-fAW8BbSQZCA/AAAAAAAAAAI/AAAAAAAABEI/EOTcAAbxBFw/s50-c-k-no/photo.jpg",
            "userId": "112959655216491997395"
          }
        }
      },
      "cell_type": "code",
      "source": [
        "import tensorflow as tf\n",
        "tf.test.gpu_device_name()"
      ],
      "execution_count": 78,
      "outputs": [
        {
          "output_type": "execute_result",
          "data": {
            "text/plain": [
              "'/device:GPU:0'"
            ]
          },
          "metadata": {
            "tags": []
          },
          "execution_count": 78
        }
      ]
    },
    {
      "metadata": {
        "id": "V3EORQ3dZ86T",
        "colab_type": "code",
        "colab": {
          "autoexec": {
            "startup": false,
            "wait_interval": 0
          }
        }
      },
      "cell_type": "code",
      "source": [
        "%matplotlib inline\n",
        "import matplotlib.pyplot as plt\n",
        "# import tensorflow as tf\n",
        "import numpy as np\n",
        "from sklearn.metrics import confusion_matrix\n",
        "import time\n",
        "from datetime import timedelta\n",
        "import math"
      ],
      "execution_count": 0,
      "outputs": []
    },
    {
      "metadata": {
        "id": "PADonwaZan1f",
        "colab_type": "code",
        "colab": {
          "autoexec": {
            "startup": false,
            "wait_interval": 0
          },
          "base_uri": "https://localhost:8080/",
          "height": 34
        },
        "outputId": "45211589-ca9f-408c-9d03-76b51ac9255b",
        "executionInfo": {
          "status": "ok",
          "timestamp": 1523426015842,
          "user_tz": -330,
          "elapsed": 1216,
          "user": {
            "displayName": "ashis kumar",
            "photoUrl": "//lh4.googleusercontent.com/-fAW8BbSQZCA/AAAAAAAAAAI/AAAAAAAABEI/EOTcAAbxBFw/s50-c-k-no/photo.jpg",
            "userId": "112959655216491997395"
          }
        }
      },
      "cell_type": "code",
      "source": [
        "tf.__version__"
      ],
      "execution_count": 80,
      "outputs": [
        {
          "output_type": "execute_result",
          "data": {
            "text/plain": [
              "'1.6.0'"
            ]
          },
          "metadata": {
            "tags": []
          },
          "execution_count": 80
        }
      ]
    },
    {
      "metadata": {
        "id": "DCRJzOyZauXZ",
        "colab_type": "code",
        "colab": {
          "autoexec": {
            "startup": false,
            "wait_interval": 0
          }
        }
      },
      "cell_type": "code",
      "source": [
        "filter_size1=5\n",
        "num_filters1=16\n",
        "\n",
        "filter_size2=5\n",
        "num_filters2=36\n",
        "\n",
        "fc_size = 128   "
      ],
      "execution_count": 0,
      "outputs": []
    },
    {
      "metadata": {
        "id": "9oo1MyEmbLPg",
        "colab_type": "code",
        "colab": {
          "autoexec": {
            "startup": false,
            "wait_interval": 0
          },
          "base_uri": "https://localhost:8080/",
          "height": 85
        },
        "outputId": "1080df3b-1726-4154-a441-fb5ec4182d4c",
        "executionInfo": {
          "status": "ok",
          "timestamp": 1523426018723,
          "user_tz": -330,
          "elapsed": 1330,
          "user": {
            "displayName": "ashis kumar",
            "photoUrl": "//lh4.googleusercontent.com/-fAW8BbSQZCA/AAAAAAAAAAI/AAAAAAAABEI/EOTcAAbxBFw/s50-c-k-no/photo.jpg",
            "userId": "112959655216491997395"
          }
        }
      },
      "cell_type": "code",
      "source": [
        "from tensorflow.examples.tutorials.mnist import input_data\n",
        "data = input_data.read_data_sets('data/MNIST/', one_hot=True)"
      ],
      "execution_count": 82,
      "outputs": [
        {
          "output_type": "stream",
          "text": [
            "Extracting data/MNIST/train-images-idx3-ubyte.gz\n",
            "Extracting data/MNIST/train-labels-idx1-ubyte.gz\n",
            "Extracting data/MNIST/t10k-images-idx3-ubyte.gz\n",
            "Extracting data/MNIST/t10k-labels-idx1-ubyte.gz\n"
          ],
          "name": "stdout"
        }
      ]
    },
    {
      "metadata": {
        "id": "hFwWv_hYbw_z",
        "colab_type": "code",
        "colab": {
          "autoexec": {
            "startup": false,
            "wait_interval": 0
          },
          "base_uri": "https://localhost:8080/",
          "height": 68
        },
        "outputId": "fc031e95-76f4-403d-9496-51c6c28279eb",
        "executionInfo": {
          "status": "ok",
          "timestamp": 1523426019759,
          "user_tz": -330,
          "elapsed": 890,
          "user": {
            "displayName": "ashis kumar",
            "photoUrl": "//lh4.googleusercontent.com/-fAW8BbSQZCA/AAAAAAAAAAI/AAAAAAAABEI/EOTcAAbxBFw/s50-c-k-no/photo.jpg",
            "userId": "112959655216491997395"
          }
        }
      },
      "cell_type": "code",
      "source": [
        "print(\"- Training-set:\\t\\t{}\".format(len(data.train.labels)))\n",
        "print(\"- Test-set:\\t\\t{}\".format(len(data.test.labels)))\n",
        "print(\"- Validation-set:\\t{}\".format(len(data.validation.labels)))"
      ],
      "execution_count": 83,
      "outputs": [
        {
          "output_type": "stream",
          "text": [
            "- Training-set:\t\t55000\n",
            "- Test-set:\t\t10000\n",
            "- Validation-set:\t5000\n"
          ],
          "name": "stdout"
        }
      ]
    },
    {
      "metadata": {
        "id": "9bzOUIwlcxfr",
        "colab_type": "code",
        "colab": {
          "autoexec": {
            "startup": false,
            "wait_interval": 0
          },
          "base_uri": "https://localhost:8080/",
          "height": 102
        },
        "outputId": "93729b29-7965-4294-9393-c314b04f1498",
        "executionInfo": {
          "status": "ok",
          "timestamp": 1523426021371,
          "user_tz": -330,
          "elapsed": 1094,
          "user": {
            "displayName": "ashis kumar",
            "photoUrl": "//lh4.googleusercontent.com/-fAW8BbSQZCA/AAAAAAAAAAI/AAAAAAAABEI/EOTcAAbxBFw/s50-c-k-no/photo.jpg",
            "userId": "112959655216491997395"
          }
        }
      },
      "cell_type": "code",
      "source": [
        "data.test.labels[0:5,:]"
      ],
      "execution_count": 84,
      "outputs": [
        {
          "output_type": "execute_result",
          "data": {
            "text/plain": [
              "array([[0., 0., 0., 0., 0., 0., 0., 1., 0., 0.],\n",
              "       [0., 0., 1., 0., 0., 0., 0., 0., 0., 0.],\n",
              "       [0., 1., 0., 0., 0., 0., 0., 0., 0., 0.],\n",
              "       [1., 0., 0., 0., 0., 0., 0., 0., 0., 0.],\n",
              "       [0., 0., 0., 0., 1., 0., 0., 0., 0., 0.]])"
            ]
          },
          "metadata": {
            "tags": []
          },
          "execution_count": 84
        }
      ]
    },
    {
      "metadata": {
        "id": "LfXo_4UsdZzE",
        "colab_type": "code",
        "colab": {
          "autoexec": {
            "startup": false,
            "wait_interval": 0
          }
        }
      },
      "cell_type": "code",
      "source": [
        "data.test.cls=np.argmax(data.test.labels,axis=1)"
      ],
      "execution_count": 0,
      "outputs": []
    },
    {
      "metadata": {
        "id": "180gIl8deWLQ",
        "colab_type": "code",
        "colab": {
          "autoexec": {
            "startup": false,
            "wait_interval": 0
          },
          "base_uri": "https://localhost:8080/",
          "height": 34
        },
        "outputId": "4b24fc86-39a5-4544-fff2-75230fa24715",
        "executionInfo": {
          "status": "ok",
          "timestamp": 1523426024200,
          "user_tz": -330,
          "elapsed": 906,
          "user": {
            "displayName": "ashis kumar",
            "photoUrl": "//lh4.googleusercontent.com/-fAW8BbSQZCA/AAAAAAAAAAI/AAAAAAAABEI/EOTcAAbxBFw/s50-c-k-no/photo.jpg",
            "userId": "112959655216491997395"
          }
        }
      },
      "cell_type": "code",
      "source": [
        "data.test.cls[0:5]"
      ],
      "execution_count": 86,
      "outputs": [
        {
          "output_type": "execute_result",
          "data": {
            "text/plain": [
              "array([7, 2, 1, 0, 4])"
            ]
          },
          "metadata": {
            "tags": []
          },
          "execution_count": 86
        }
      ]
    },
    {
      "metadata": {
        "id": "CX3ScGbZeZTH",
        "colab_type": "code",
        "colab": {
          "autoexec": {
            "startup": false,
            "wait_interval": 0
          }
        }
      },
      "cell_type": "code",
      "source": [
        "# We know that MNIST images are 28 pixels in each dimension.\n",
        "img_size = 28\n",
        "\n",
        "# Images are stored in one-dimensional arrays of this length.\n",
        "img_size_flat = img_size * img_size\n",
        "\n",
        "# Tuple with height and width of images used to reshape arrays.\n",
        "img_shape = (img_size, img_size)\n",
        "\n",
        "# Number of colour channels for the images: 1 channel for gray-scale.\n",
        "num_channels = 1\n",
        "\n",
        "# Number of classes, one class for each of 10 digits.\n",
        "num_classes = 10"
      ],
      "execution_count": 0,
      "outputs": []
    },
    {
      "metadata": {
        "id": "oniPNe4te4of",
        "colab_type": "code",
        "colab": {
          "autoexec": {
            "startup": false,
            "wait_interval": 0
          }
        }
      },
      "cell_type": "code",
      "source": [
        "def plot_images(images, cls_true, cls_pred=None):\n",
        "    assert len(images) == len(cls_true) == 9\n",
        "    print(len(images))\n",
        "    # Create figure with 3x3 sub-plots.\n",
        "    fig, axes = plt.subplots(3, 3)\n",
        "    fig.subplots_adjust(hspace=0.3, wspace=0.3)\n",
        "\n",
        "    for i, ax in enumerate(axes.flat):\n",
        "        # Plot image.\n",
        "        ax.imshow(images[i].reshape(img_shape), cmap='binary')\n",
        "\n",
        "        # Show true and predicted classes.\n",
        "        if cls_pred is None:\n",
        "            xlabel = \"True: {0}\".format(cls_true[i])\n",
        "        else:\n",
        "            xlabel = \"True: {0}, Pred: {1}\".format(cls_true[i], cls_pred[i])\n",
        "\n",
        "        # Show the classes as the label on the x-axis.\n",
        "        ax.set_xlabel(xlabel)\n",
        "        \n",
        "        # Remove ticks from the plot.\n",
        "        ax.set_xticks([])\n",
        "        ax.set_yticks([])\n",
        "    \n",
        "    # Ensure the plot is shown correctly with multiple plots\n",
        "    # in a single Notebook cell.\n",
        "    plt.show()"
      ],
      "execution_count": 0,
      "outputs": []
    },
    {
      "metadata": {
        "id": "Bwvoqt5sfPQW",
        "colab_type": "code",
        "colab": {
          "autoexec": {
            "startup": false,
            "wait_interval": 0
          },
          "base_uri": "https://localhost:8080/",
          "height": 279
        },
        "outputId": "e9ec54bd-ab20-4300-c09a-fc0a9d11c2ea",
        "executionInfo": {
          "status": "ok",
          "timestamp": 1523426029132,
          "user_tz": -330,
          "elapsed": 1534,
          "user": {
            "displayName": "ashis kumar",
            "photoUrl": "//lh4.googleusercontent.com/-fAW8BbSQZCA/AAAAAAAAAAI/AAAAAAAABEI/EOTcAAbxBFw/s50-c-k-no/photo.jpg",
            "userId": "112959655216491997395"
          }
        }
      },
      "cell_type": "code",
      "source": [
        "\n",
        "# Get the first images from the test-set.\n",
        "images = data.test.images[0:9]\n",
        "\n",
        "# Get the true classes for those images.\n",
        "cls_true = data.test.cls[0:9]\n",
        "\n",
        "# Plot the images and labels using our helper-function above.\n",
        "plot_images(images=images, cls_true=cls_true)\n",
        "\n",
        "\n"
      ],
      "execution_count": 89,
      "outputs": [
        {
          "output_type": "stream",
          "text": [
            "9\n"
          ],
          "name": "stdout"
        },
        {
          "output_type": "display_data",
          "data": {
            "image/png": "[encoded data removed]",
            "text/plain": [
              "<matplotlib.figure.Figure at 0x7f1e9666b438>"
            ]
          },
          "metadata": {
            "tags": []
          }
        }
      ]
    },
    {
      "metadata": {
        "id": "i479UVN6hhWk",
        "colab_type": "code",
        "colab": {
          "autoexec": {
            "startup": false,
            "wait_interval": 0
          }
        }
      },
      "cell_type": "code",
      "source": [
        "\n",
        "\n",
        "x=tf.placeholder(tf.float32,[None,img_size_flat])\n",
        "# Placeholder allows us to change the images that are input to the tensorflow graph. These are tensors which are multidimensional matrix or vectors.\n",
        "# Data type is float 32 and shape is [None,img_size_flat] where None means the tensors may hold arbitrary no of images where each image can be a vector of size img_size_flat.\n",
        "\n",
        "y_true=tf.placeholder(tf.int64,[None,num_classes])\n",
        "# Placeholder for true labels associated with the images that were input in the placeholder variable x.Shape is [None,num_classes]\n",
        "# where it can handle arbitrary number of rows but each label is  a vector of length 10 \n",
        "\n",
        "y_true_cls=tf.placeholder(tf.int64, [None])\n",
        "\n",
        "\n",
        "\n",
        "weights = tf.Variable(tf.zeros([img_size_flat, num_classes]))\n",
        "biases = tf.Variable(tf.zeros([num_classes]))\n",
        "# Note-nothing is initialized or calculate at this point of time. We just building the computational graph . Later we execute it"
      ],
      "execution_count": 0,
      "outputs": []
    },
    {
      "metadata": {
        "id": "w9y_GK2XjQfn",
        "colab_type": "code",
        "colab": {
          "autoexec": {
            "startup": false,
            "wait_interval": 0
          }
        }
      },
      "cell_type": "code",
      "source": [
        "logits=tf.matmul(x,weights)+biases\n",
        "\n",
        "# Now logits is a matrix with num_images rows and num_classes columns, where the element of the $i$'th row and $j$'th column is an estimate of how likely the\n",
        "# $i$'th input image is to be of the $j$'th class.\n",
        "\n",
        "# However, these estimates are a bit rough and difficult to interpret because the numbers may be very small or large, so we want to normalize them so that each row\n",
        "# of the logits matrix sums to one, and each element is limited between zero and one. \n",
        "# This is calculated using the so-called softmax function and the result is stored in y_pred."
      ],
      "execution_count": 0,
      "outputs": []
    },
    {
      "metadata": {
        "id": "-jRUNozpkEgI",
        "colab_type": "code",
        "colab": {
          "autoexec": {
            "startup": false,
            "wait_interval": 0
          },
          "base_uri": "https://localhost:8080/",
          "height": 102
        },
        "outputId": "d3468929-a3ec-4c4f-8dad-fdeec4a63db2",
        "executionInfo": {
          "status": "ok",
          "timestamp": 1523426033216,
          "user_tz": -330,
          "elapsed": 1035,
          "user": {
            "displayName": "ashis kumar",
            "photoUrl": "//lh4.googleusercontent.com/-fAW8BbSQZCA/AAAAAAAAAAI/AAAAAAAABEI/EOTcAAbxBFw/s50-c-k-no/photo.jpg",
            "userId": "112959655216491997395"
          }
        }
      },
      "cell_type": "code",
      "source": [
        "print(x.shape)\n",
        "print(weights.shape)\n",
        "print(biases.shape)\n",
        "print(logits.shape)\n",
        "print(28*28)"
      ],
      "execution_count": 92,
      "outputs": [
        {
          "output_type": "stream",
          "text": [
            "(?, 784)\n",
            "(784, 10)\n",
            "(10,)\n",
            "(?, 10)\n",
            "784\n"
          ],
          "name": "stdout"
        }
      ]
    },
    {
      "metadata": {
        "id": "p3NsfXMPkJYQ",
        "colab_type": "code",
        "colab": {
          "autoexec": {
            "startup": false,
            "wait_interval": 0
          }
        }
      },
      "cell_type": "code",
      "source": [
        "y_pred=tf.nn.softmax(logits)\n",
        "y_pred_cls=tf.argmax(y_pred,axis=1)"
      ],
      "execution_count": 0,
      "outputs": []
    },
    {
      "metadata": {
        "id": "U7ZUlVRPkPdc",
        "colab_type": "code",
        "colab": {
          "autoexec": {
            "startup": false,
            "wait_interval": 0
          }
        }
      },
      "cell_type": "code",
      "source": [
        "# Loss function\n",
        "cross_entropy=tf.nn.softmax_cross_entropy_with_logits_v2(logits=logits,labels=y_true)\n",
        "# Cost-function to be optimized\n",
        "# To make the model better at classifying the input images, we must somehow change the variables for weights and biases. To do this we first need to know how well\n",
        "# the model currently performs by comparing the predicted output of the model y_pred to the desired output y_true.\n",
        "\n",
        "# The cross-entropy is a performance measure used in classification. The cross-entropy is a continuous function that is always positive and if the predicted output \n",
        "# of the model exactly matches the desired output then the cross-entropy equals zero. The goal of optimization is therefore to minimize the cross-entropy so it gets \n",
        "# as close to zero as possible by changing the weights and biases of the model.\n",
        "\n",
        "# TensorFlow has a built-in function for calculating the cross-entropy. Note that it uses the values of the logits because it also calculates the softmax\n",
        "# internally"
      ],
      "execution_count": 0,
      "outputs": []
    },
    {
      "metadata": {
        "id": "Kg2nc10lox4l",
        "colab_type": "code",
        "colab": {
          "autoexec": {
            "startup": false,
            "wait_interval": 0
          }
        }
      },
      "cell_type": "code",
      "source": [
        "# Cost Function\n",
        "cost=tf.reduce_mean(cross_entropy)\n",
        "# We have now calculated the cross-entropy for each of the image classifications so we have a measure of how well the model performs on each image individually.\n",
        "# But in order to use the cross-entropy to guide the optimization of the model's variables we need a single scalar value, \n",
        "# so we simply take the average of the cross-entropy for all the image classifications."
      ],
      "execution_count": 0,
      "outputs": []
    },
    {
      "metadata": {
        "id": "gLc2VdIVpgw-",
        "colab_type": "code",
        "colab": {
          "autoexec": {
            "startup": false,
            "wait_interval": 0
          }
        }
      },
      "cell_type": "code",
      "source": [
        "# Optimization method\n",
        "# Now that we have a cost measure that must be minimized, we can then create an optimizer. \n",
        "# In this case it is the basic form of Gradient Descent where the step-size is set to 0.5.\n",
        "optimizer=tf.train.GradientDescentOptimizer(learning_rate=.5).minimize(cost)\n",
        "# untill here we are building computation graph only and nothing is calculated."
      ],
      "execution_count": 0,
      "outputs": []
    },
    {
      "metadata": {
        "id": "XQ1o4AJJqjzl",
        "colab_type": "code",
        "colab": {
          "autoexec": {
            "startup": false,
            "wait_interval": 0
          }
        }
      },
      "cell_type": "code",
      "source": [
        "# Checking performances\n",
        "# This is a vector of booleans whether the predicted class equals the true class of each image.\n",
        "correct_prediction=tf.equal(y_pred_cls,y_true_cls)\n",
        "accuracy=tf.reduce_mean(tf.cast(correct_predicn,tf.float32))\n",
        "# This calculates the classification accuracy by first\n",
        "# type-casting the vector of booleans to floats, so that False becomes 0 and True becomes 1, and then calculating the average of these numbers."
      ],
      "execution_count": 0,
      "outputs": []
    },
    {
      "metadata": {
        "id": "YgSx_wOTrjGA",
        "colab_type": "code",
        "colab": {
          "autoexec": {
            "startup": false,
            "wait_interval": 0
          }
        }
      },
      "cell_type": "code",
      "source": [
        "# TensorFlow Run\n",
        "# Create TensorFlow session\n",
        "# Once the TensorFlow graph has been created, we have to create a TensorFlow session which is used to execute the graph.\n",
        "session=tf.Session()"
      ],
      "execution_count": 0,
      "outputs": []
    },
    {
      "metadata": {
        "id": "6AhxPjhlv1wW",
        "colab_type": "code",
        "colab": {
          "autoexec": {
            "startup": false,
            "wait_interval": 0
          }
        }
      },
      "cell_type": "code",
      "source": [
        "# Initialize variables\n",
        "session.run(tf.global_variables_initializer())"
      ],
      "execution_count": 0,
      "outputs": []
    },
    {
      "metadata": {
        "id": "EDuPYpOzwD6C",
        "colab_type": "code",
        "colab": {
          "autoexec": {
            "startup": false,
            "wait_interval": 0
          }
        }
      },
      "cell_type": "code",
      "source": [
        "# Helper-function to perform optimization iterations\n",
        "# There are 50.000 images in the training-set. It takes a long time to calculate the gradient of the model using all these images.\n",
        "# We therefore use Stochastic Gradient Descent which only uses a small batch of images in each iteration of the optimizer.\n",
        "batch_size = 100\n",
        "\n",
        "def optimize(num_iterations):\n",
        "  for i in range(num_iterations):\n",
        "            # Get a batch of training examples.\n",
        "        # x_batch now holds a batch of images and\n",
        "        # y_true_batch are the true labels for those images.\n",
        "        x_batch,y_true_batch =data.train.next_batch(batch_size)\n",
        "        \n",
        "        # Put the batch into a dict with the proper names\n",
        "        # for placeholder variables in the TensorFlow graph.\n",
        "        \n",
        "        feed_dict_train={x:x_batch,y_true:y_true_batch}\n",
        "        \n",
        "        # Run the optimizer using this batch of training data.\n",
        "        # TensorFlow assigns the variables in feed_dict_train\n",
        "        # to the placeholder variables and then runs the optimizer.\n",
        "        \n",
        "        session.run(optimizer,feed_dict=feed_dict_train)"
      ],
      "execution_count": 0,
      "outputs": []
    },
    {
      "metadata": {
        "id": "z0N_p1SJwO6f",
        "colab_type": "code",
        "colab": {
          "autoexec": {
            "startup": false,
            "wait_interval": 0
          }
        }
      },
      "cell_type": "code",
      "source": [
        "# Here it goes behind the scenes and calculates the gradients for weights and biases and updates it"
      ],
      "execution_count": 0,
      "outputs": []
    },
    {
      "metadata": {
        "id": "dDIhIRzP0dSx",
        "colab_type": "code",
        "colab": {
          "autoexec": {
            "startup": false,
            "wait_interval": 0
          }
        }
      },
      "cell_type": "code",
      "source": [
        "# Helper-functions to show performance\n",
        "# Dict with the test-set data to be used as input to the TensorFlow graph. Note that we must use the correct names for the\n",
        "# placeholder variables in the TensorFlow graph."
      ],
      "execution_count": 0,
      "outputs": []
    },
    {
      "metadata": {
        "id": "N_3Yx1050nZb",
        "colab_type": "code",
        "colab": {
          "autoexec": {
            "startup": false,
            "wait_interval": 0
          }
        }
      },
      "cell_type": "code",
      "source": [
        "feed_dict_test = {x: data.test.images,\n",
        "                  y_true: data.test.labels,\n",
        "                  y_true_cls: data.test.cls}"
      ],
      "execution_count": 0,
      "outputs": []
    },
    {
      "metadata": {
        "id": "GegrRK5d0r6T",
        "colab_type": "code",
        "colab": {
          "autoexec": {
            "startup": false,
            "wait_interval": 0
          }
        }
      },
      "cell_type": "code",
      "source": [
        "def print_accuracy():\n",
        "  acc=session.run(accuracy, feed_dict=feed_dict_test)\n",
        "  print(\"Accuracy on test-set: {0:.1%}\".format(acc))"
      ],
      "execution_count": 0,
      "outputs": []
    },
    {
      "metadata": {
        "id": "88qMdZsw1H-0",
        "colab_type": "code",
        "colab": {
          "autoexec": {
            "startup": false,
            "wait_interval": 0
          }
        }
      },
      "cell_type": "code",
      "source": [
        "def print_confusion_matrix():\n",
        "  cls_true=data.test.cls\n",
        "  # Get the predicted classifications for the test-set.\n",
        "  cls_pred=session.run(y_pred_cls, feed_dict=feed_dict_test)\n",
        "  # Get the confusion matrix using sklearn.\n",
        "  cm=confusion_matrix(y_true=cls_true,y_pred=cls_pred)\n",
        "  print(cm)\n",
        "  # Plot the confusion matrix as an image.\n",
        "  plt.imshow(cm, interpolation='nearest', cmap=plt.cm.Blues)\n",
        "\n",
        "  # Make various adjustments to the plot.\n",
        "  plt.tight_layout()\n",
        "  plt.colorbar()\n",
        "  tick_marks = np.arange(num_classes)\n",
        "  plt.xticks(tick_marks, range(num_classes))\n",
        "  plt.yticks(tick_marks, range(num_classes))\n",
        "  plt.xlabel('Predicted')\n",
        "  plt.ylabel('True')\n",
        "\n",
        "  # Ensure the plot is shown correctly with multiple plots\n",
        "  # in a single Notebook cell.\n",
        "  plt.show()"
      ],
      "execution_count": 0,
      "outputs": []
    },
    {
      "metadata": {
        "id": "-DgYkbwI8aTO",
        "colab_type": "code",
        "colab": {
          "autoexec": {
            "startup": false,
            "wait_interval": 0
          }
        }
      },
      "cell_type": "code",
      "source": [
        "def plot_example_errors():\n",
        "    # Use TensorFlow to get a list of boolean values\n",
        "    # whether each test-image has been correctly classified,\n",
        "    # and a list for the predicted class of each image.\n",
        "    correct, cls_pred = session.run([correct_prediction, y_pred_cls],\n",
        "                                    feed_dict=feed_dict_test)\n",
        "\n",
        "    # Negate the boolean array.\n",
        "    incorrect = (correct == False)\n",
        "    \n",
        "    # Get the images from the test-set that have been\n",
        "    # incorrectly classified.\n",
        "    images = data.test.images[incorrect]\n",
        "    \n",
        "    # Get the predicted classes for those images.\n",
        "    cls_pred = cls_pred[incorrect]\n",
        "\n",
        "    # Get the true classes for those images.\n",
        "    cls_true = data.test.cls[incorrect]\n",
        "    \n",
        "    # Plot the first 9 images.\n",
        "    plot_images(images=images[0:9],\n",
        "                cls_true=cls_true[0:9],\n",
        "                cls_pred=cls_pred[0:9])"
      ],
      "execution_count": 0,
      "outputs": []
    },
    {
      "metadata": {
        "id": "lN6aHXyE-JXy",
        "colab_type": "code",
        "colab": {
          "autoexec": {
            "startup": false,
            "wait_interval": 0
          }
        }
      },
      "cell_type": "code",
      "source": [
        "def plot_weights():\n",
        "    # Get the values for the weights from the TensorFlow variable.\n",
        "    w = session.run(weights)\n",
        "    \n",
        "    # Get the lowest and highest values for the weights.\n",
        "    # This is used to correct the colour intensity across\n",
        "    # the images so they can be compared with each other.\n",
        "    w_min = np.min(w)\n",
        "    w_max = np.max(w)\n",
        "\n",
        "    # Create figure with 3x4 sub-plots,\n",
        "    # where the last 2 sub-plots are unused.\n",
        "    fig, axes = plt.subplots(3, 4)\n",
        "    fig.subplots_adjust(hspace=0.3, wspace=0.3)\n",
        "\n",
        "    for i, ax in enumerate(axes.flat):\n",
        "        # Only use the weights for the first 10 sub-plots.\n",
        "        if i<10:\n",
        "            # Get the weights for the i'th digit and reshape it.\n",
        "            # Note that w.shape == (img_size_flat, 10)\n",
        "            image = w[:, i].reshape(img_shape)\n",
        "\n",
        "            # Set the label for the sub-plot.\n",
        "            ax.set_xlabel(\"Weights: {0}\".format(i))\n",
        "\n",
        "            # Plot the image.\n",
        "            ax.imshow(image, vmin=w_min, vmax=w_max, cmap='seismic')\n",
        "\n",
        "        # Remove ticks from each sub-plot.\n",
        "        ax.set_xticks([])\n",
        "        ax.set_yticks([])\n",
        "        \n",
        "    # Ensure the plot is shown correctly with multiple plots\n",
        "    # in a single Notebook cell.\n",
        "    plt.show()"
      ],
      "execution_count": 0,
      "outputs": []
    },
    {
      "metadata": {
        "id": "tWPcWAdr-N-b",
        "colab_type": "code",
        "colab": {
          "autoexec": {
            "startup": false,
            "wait_interval": 0
          }
        }
      },
      "cell_type": "code",
      "source": [
        "# Performance before any optimization\n",
        "# The accuracy on the test-set is 9.8%. This is because the model has only been initialized and not optimized at all, so it always predicts that the image shows a zero digit, \n",
        "# as demonstrated in the plot below, and it turns out that 9.8% of the images in the test-set happens to be zero digits.\n"
      ],
      "execution_count": 0,
      "outputs": []
    },
    {
      "metadata": {
        "id": "4TkMmis_QIJs",
        "colab_type": "code",
        "colab": {
          "autoexec": {
            "startup": false,
            "wait_interval": 0
          },
          "base_uri": "https://localhost:8080/",
          "height": 34
        },
        "outputId": "94d4b78c-6e5e-450c-cb6f-29cc8455bc71",
        "executionInfo": {
          "status": "ok",
          "timestamp": 1523426055083,
          "user_tz": -330,
          "elapsed": 819,
          "user": {
            "displayName": "ashis kumar",
            "photoUrl": "//lh4.googleusercontent.com/-fAW8BbSQZCA/AAAAAAAAAAI/AAAAAAAABEI/EOTcAAbxBFw/s50-c-k-no/photo.jpg",
            "userId": "112959655216491997395"
          }
        }
      },
      "cell_type": "code",
      "source": [
        "print_accuracy()"
      ],
      "execution_count": 108,
      "outputs": [
        {
          "output_type": "stream",
          "text": [
            "Accuracy on test-set: 9.8%\n"
          ],
          "name": "stdout"
        }
      ]
    },
    {
      "metadata": {
        "id": "5SuzaDt4Q7pe",
        "colab_type": "code",
        "colab": {
          "autoexec": {
            "startup": false,
            "wait_interval": 0
          },
          "base_uri": "https://localhost:8080/",
          "height": 279
        },
        "outputId": "caa3fe5c-c16c-42e1-9a94-4806118d0352",
        "executionInfo": {
          "status": "ok",
          "timestamp": 1523426113496,
          "user_tz": -330,
          "elapsed": 1536,
          "user": {
            "displayName": "ashis kumar",
            "photoUrl": "//lh4.googleusercontent.com/-fAW8BbSQZCA/AAAAAAAAAAI/AAAAAAAABEI/EOTcAAbxBFw/s50-c-k-no/photo.jpg",
            "userId": "112959655216491997395"
          }
        }
      },
      "cell_type": "code",
      "source": [
        "plot_example_errors()"
      ],
      "execution_count": 111,
      "outputs": [
        {
          "output_type": "stream",
          "text": [
            "9\n"
          ],
          "name": "stdout"
        },
        {
          "output_type": "display_data",
          "data": {
            "image/png": "[encoded data removed]",
            "text/plain": [
              "<matplotlib.figure.Figure at 0x7f1e7fc45358>"
            ]
          },
          "metadata": {
            "tags": []
          }
        }
      ]
    },
    {
      "metadata": {
        "id": "6r7tR6BARQfv",
        "colab_type": "code",
        "colab": {
          "autoexec": {
            "startup": false,
            "wait_interval": 0
          }
        }
      },
      "cell_type": "code",
      "source": [
        "optimize(num_iterations=1)"
      ],
      "execution_count": 0,
      "outputs": []
    },
    {
      "metadata": {
        "id": "t8dJeL7_RlA5",
        "colab_type": "code",
        "colab": {
          "autoexec": {
            "startup": false,
            "wait_interval": 0
          },
          "base_uri": "https://localhost:8080/",
          "height": 34
        },
        "outputId": "e4813133-af1c-4375-96fe-9cdbd0696a0b",
        "executionInfo": {
          "status": "ok",
          "timestamp": 1523426166884,
          "user_tz": -330,
          "elapsed": 775,
          "user": {
            "displayName": "ashis kumar",
            "photoUrl": "//lh4.googleusercontent.com/-fAW8BbSQZCA/AAAAAAAAAAI/AAAAAAAABEI/EOTcAAbxBFw/s50-c-k-no/photo.jpg",
            "userId": "112959655216491997395"
          }
        }
      },
      "cell_type": "code",
      "source": [
        "print_accuracy()"
      ],
      "execution_count": 113,
      "outputs": [
        {
          "output_type": "stream",
          "text": [
            "Accuracy on test-set: 32.5%\n"
          ],
          "name": "stdout"
        }
      ]
    },
    {
      "metadata": {
        "id": "q5G_N1kdRoRY",
        "colab_type": "code",
        "colab": {
          "autoexec": {
            "startup": false,
            "wait_interval": 0
          },
          "base_uri": "https://localhost:8080/",
          "height": 279
        },
        "outputId": "3ffb2b3a-6029-4fcd-867f-dafd80872cb4",
        "executionInfo": {
          "status": "ok",
          "timestamp": 1523426178636,
          "user_tz": -330,
          "elapsed": 1834,
          "user": {
            "displayName": "ashis kumar",
            "photoUrl": "//lh4.googleusercontent.com/-fAW8BbSQZCA/AAAAAAAAAAI/AAAAAAAABEI/EOTcAAbxBFw/s50-c-k-no/photo.jpg",
            "userId": "112959655216491997395"
          }
        }
      },
      "cell_type": "code",
      "source": [
        "plot_example_errors()"
      ],
      "execution_count": 114,
      "outputs": [
        {
          "output_type": "stream",
          "text": [
            "9\n"
          ],
          "name": "stdout"
        },
        {
          "output_type": "display_data",
          "data": {
            "image/png": "[encoded data removed]",
            "text/plain": [
              "<matplotlib.figure.Figure at 0x7f1e7fc622e8>"
            ]
          },
          "metadata": {
            "tags": []
          }
        }
      ]
    },
    {
      "metadata": {
        "id": "EmP3WxJORq3M",
        "colab_type": "code",
        "colab": {
          "autoexec": {
            "startup": false,
            "wait_interval": 0
          },
          "base_uri": "https://localhost:8080/",
          "height": 262
        },
        "outputId": "09a53ebd-e414-4407-ca19-ea04bdf92e62",
        "executionInfo": {
          "status": "ok",
          "timestamp": 1523426379730,
          "user_tz": -330,
          "elapsed": 2586,
          "user": {
            "displayName": "ashis kumar",
            "photoUrl": "//lh4.googleusercontent.com/-fAW8BbSQZCA/AAAAAAAAAAI/AAAAAAAABEI/EOTcAAbxBFw/s50-c-k-no/photo.jpg",
            "userId": "112959655216491997395"
          }
        }
      },
      "cell_type": "code",
      "source": [
        "plot_weights()\n",
        "# The 1 filter generally looks for red type pattern so if we pass 1 where there is black pixxel in center .. Then this filter around here will have positive reaction to the\n",
        "# input image."
      ],
      "execution_count": 116,
      "outputs": [
        {
          "output_type": "display_data",
          "data": {
            "image/png": "[encoded data removed]",
            "text/plain": [
              "<matplotlib.figure.Figure at 0x7f1e968e1dd8>"
            ]
          },
          "metadata": {
            "tags": []
          }
        }
      ]
    },
    {
      "metadata": {
        "id": "4qevpSBoRuvu",
        "colab_type": "code",
        "colab": {
          "autoexec": {
            "startup": false,
            "wait_interval": 0
          },
          "base_uri": "https://localhost:8080/",
          "height": 34
        },
        "outputId": "16b95669-28bf-4388-89b4-eb15324ad797",
        "executionInfo": {
          "status": "ok",
          "timestamp": 1523426420751,
          "user_tz": -330,
          "elapsed": 1119,
          "user": {
            "displayName": "ashis kumar",
            "photoUrl": "//lh4.googleusercontent.com/-fAW8BbSQZCA/AAAAAAAAAAI/AAAAAAAABEI/EOTcAAbxBFw/s50-c-k-no/photo.jpg",
            "userId": "112959655216491997395"
          }
        }
      },
      "cell_type": "code",
      "source": [
        "optimize(num_iterations=9)\n",
        "print_accuracy()"
      ],
      "execution_count": 117,
      "outputs": [
        {
          "output_type": "stream",
          "text": [
            "Accuracy on test-set: 70.1%\n"
          ],
          "name": "stdout"
        }
      ]
    },
    {
      "metadata": {
        "id": "b54NniYvSmKD",
        "colab_type": "code",
        "colab": {
          "autoexec": {
            "startup": false,
            "wait_interval": 0
          },
          "base_uri": "https://localhost:8080/",
          "height": 279
        },
        "outputId": "b018ecaf-3b0c-4b00-8649-282b6bfe74d5",
        "executionInfo": {
          "status": "ok",
          "timestamp": 1523426433819,
          "user_tz": -330,
          "elapsed": 1441,
          "user": {
            "displayName": "ashis kumar",
            "photoUrl": "//lh4.googleusercontent.com/-fAW8BbSQZCA/AAAAAAAAAAI/AAAAAAAABEI/EOTcAAbxBFw/s50-c-k-no/photo.jpg",
            "userId": "112959655216491997395"
          }
        }
      },
      "cell_type": "code",
      "source": [
        "plot_example_errors()"
      ],
      "execution_count": 118,
      "outputs": [
        {
          "output_type": "stream",
          "text": [
            "9\n"
          ],
          "name": "stdout"
        },
        {
          "output_type": "display_data",
          "data": {
            "image/png": "[encoded data removed]",
            "text/plain": [
              "<matplotlib.figure.Figure at 0x7f1e742519b0>"
            ]
          },
          "metadata": {
            "tags": []
          }
        }
      ]
    },
    {
      "metadata": {
        "id": "1sasci59SpQZ",
        "colab_type": "code",
        "colab": {
          "autoexec": {
            "startup": false,
            "wait_interval": 0
          },
          "base_uri": "https://localhost:8080/",
          "height": 34
        },
        "outputId": "70d81cb0-8598-4fa5-a47e-80e29db14dff",
        "executionInfo": {
          "status": "ok",
          "timestamp": 1523426464376,
          "user_tz": -330,
          "elapsed": 2799,
          "user": {
            "displayName": "ashis kumar",
            "photoUrl": "//lh4.googleusercontent.com/-fAW8BbSQZCA/AAAAAAAAAAI/AAAAAAAABEI/EOTcAAbxBFw/s50-c-k-no/photo.jpg",
            "userId": "112959655216491997395"
          }
        }
      },
      "cell_type": "code",
      "source": [
        "optimize(num_iterations=990)\n",
        "print_accuracy()"
      ],
      "execution_count": 119,
      "outputs": [
        {
          "output_type": "stream",
          "text": [
            "Accuracy on test-set: 92.0%\n"
          ],
          "name": "stdout"
        }
      ]
    },
    {
      "metadata": {
        "id": "LdqcAdO9SwaR",
        "colab_type": "code",
        "colab": {
          "autoexec": {
            "startup": false,
            "wait_interval": 0
          },
          "base_uri": "https://localhost:8080/",
          "height": 279
        },
        "outputId": "ef7c39f2-2ac3-4895-adff-21def0349f88",
        "executionInfo": {
          "status": "ok",
          "timestamp": 1523426492746,
          "user_tz": -330,
          "elapsed": 1261,
          "user": {
            "displayName": "ashis kumar",
            "photoUrl": "//lh4.googleusercontent.com/-fAW8BbSQZCA/AAAAAAAAAAI/AAAAAAAABEI/EOTcAAbxBFw/s50-c-k-no/photo.jpg",
            "userId": "112959655216491997395"
          }
        }
      },
      "cell_type": "code",
      "source": [
        "plot_example_errors()"
      ],
      "execution_count": 120,
      "outputs": [
        {
          "output_type": "stream",
          "text": [
            "9\n"
          ],
          "name": "stdout"
        },
        {
          "output_type": "display_data",
          "data": {
            "image/png": "[encoded data removed]",
            "text/plain": [
              "<matplotlib.figure.Figure at 0x7f1e7430deb8>"
            ]
          },
          "metadata": {
            "tags": []
          }
        }
      ]
    },
    {
      "metadata": {
        "id": "I6GWmcaiS3tt",
        "colab_type": "code",
        "colab": {
          "autoexec": {
            "startup": false,
            "wait_interval": 0
          },
          "base_uri": "https://localhost:8080/",
          "height": 262
        },
        "outputId": "6611f4b6-3db0-4e12-ce3d-94ec068f3757",
        "executionInfo": {
          "status": "ok",
          "timestamp": 1523426582308,
          "user_tz": -330,
          "elapsed": 1848,
          "user": {
            "displayName": "ashis kumar",
            "photoUrl": "//lh4.googleusercontent.com/-fAW8BbSQZCA/AAAAAAAAAAI/AAAAAAAABEI/EOTcAAbxBFw/s50-c-k-no/photo.jpg",
            "userId": "112959655216491997395"
          }
        }
      },
      "cell_type": "code",
      "source": [
        "plot_weights()"
      ],
      "execution_count": 121,
      "outputs": [
        {
          "output_type": "display_data",
          "data": {
            "image/png": "[encoded data removed]",
            "text/plain": [
              "<matplotlib.figure.Figure at 0x7f1e7fd4f358>"
            ]
          },
          "metadata": {
            "tags": []
          }
        }
      ]
    },
    {
      "metadata": {
        "id": "nmUmgi7FTNbu",
        "colab_type": "code",
        "colab": {
          "autoexec": {
            "startup": false,
            "wait_interval": 0
          },
          "base_uri": "https://localhost:8080/",
          "height": 481
        },
        "outputId": "e5279bd6-e8ae-40ab-b82f-518a180b6d41",
        "executionInfo": {
          "status": "ok",
          "timestamp": 1523426619425,
          "user_tz": -330,
          "elapsed": 950,
          "user": {
            "displayName": "ashis kumar",
            "photoUrl": "//lh4.googleusercontent.com/-fAW8BbSQZCA/AAAAAAAAAAI/AAAAAAAABEI/EOTcAAbxBFw/s50-c-k-no/photo.jpg",
            "userId": "112959655216491997395"
          }
        }
      },
      "cell_type": "code",
      "source": [
        "print_confusion_matrix()"
      ],
      "execution_count": 122,
      "outputs": [
        {
          "output_type": "stream",
          "text": [
            "[[ 966    0    2    2    0    3    4    1    2    0]\n",
            " [   0 1107    2    2    0    2    4    2   16    0]\n",
            " [  13   12  893   18   12    1   12   15   48    8]\n",
            " [   4    1   12  923    0   21    2   12   28    7]\n",
            " [   2    2    3    1  905    0   15    2   13   39]\n",
            " [  11    3    4   40    9  756   13    8   41    7]\n",
            " [  17    3    3    2    9   14  904    3    3    0]\n",
            " [   3    9   18    9    6    1    0  948    4   30]\n",
            " [   5    6    5   16    8   19   10   11  892    2]\n",
            " [  12    6    2   10   27    6    0   29   12  905]]\n"
          ],
          "name": "stdout"
        },
        {
          "output_type": "display_data",
          "data": {
            "image/png": "[encoded data removed]",
            "text/plain": [
              "<matplotlib.figure.Figure at 0x7f1e9692bfd0>"
            ]
          },
          "metadata": {
            "tags": []
          }
        }
      ]
    },
    {
      "metadata": {
        "id": "PGa0qIPZTWtW",
        "colab_type": "code",
        "colab": {
          "autoexec": {
            "startup": false,
            "wait_interval": 0
          }
        }
      },
      "cell_type": "code",
      "source": [
        ""
      ],
      "execution_count": 0,
      "outputs": []
    }
  ]
}